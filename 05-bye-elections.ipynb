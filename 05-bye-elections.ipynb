{
 "cells": [
  {
   "cell_type": "code",
   "execution_count": 1,
   "metadata": {},
   "outputs": [
    {
     "name": "stdout",
     "output_type": "stream",
     "text": [
      "Total seats: 25\n",
      "\n",
      "Party-wise seat distribution:\n",
      "Bharatiya Janata Party: 11 (44.0%)\n",
      "Indian National Congress: 7 (28.0%)\n",
      "Samajwadi Party: 2 (8.0%)\n",
      "All India Trinamool Congress: 2 (8.0%)\n",
      "Communist Party of India  (Marxist-Leninist)  (Liberation): 1 (4.0%)\n",
      "Jharkhand Mukti Morcha: 1 (4.0%)\n",
      "Bharat Adivasi Party: 1 (4.0%)\n"
     ]
    }
   ],
   "source": [
    "\n",
    "import requests\n",
    "from bs4 import BeautifulSoup\n",
    "import pandas as pd\n",
    "import matplotlib.pyplot as plt\n",
    "\n",
    "url = \"https://results.eci.gov.in/AcResultByeJune2024/index.htm\"\n",
    "\n",
    "def scrape_bye_election_data(url):\n",
    "    response = requests.get(url)\n",
    "    \n",
    "    if response.status_code != 200:\n",
    "        print(f\"Failed to retrieve the page. Status code: {response.status_code}\")\n",
    "        return None\n",
    "\n",
    "    soup = BeautifulSoup(response.content, 'html.parser')\n",
    "    const_boxes = soup.find_all('div', class_='const-box')\n",
    "    \n",
    "    parties = []\n",
    "    for box in const_boxes:\n",
    "        party = box.find('h6').text.strip()\n",
    "        parties.append(party)    \n",
    "    return parties\n",
    "parties = scrape_bye_election_data(url)\n",
    "\n",
    "if parties:\n",
    "    party_counts = pd.Series(parties).value_counts()\n",
    "\n",
    "    plt.figure(figsize=(12, 8))\n",
    "    plt.pie(party_counts.values, labels=party_counts.index, autopct='%1.1f%%', startangle=90)\n",
    "    plt.title('Bye-Elections: Party-wise Seat Distribution')\n",
    "    plt.axis('equal')\n",
    "    plt.legend(title=\"Parties\", loc=\"center left\", bbox_to_anchor=(1, 0, 0.5, 1))\n",
    "    plt.savefig('bye_elections.png', bbox_inches='tight')\n",
    "    plt.close()\n",
    "    total_seats = len(parties)\n",
    "    print(f\"Total seats: {total_seats}\")\n",
    "    print(\"\\nParty-wise seat distribution:\")\n",
    "    for party, seats in party_counts.items():\n",
    "        print(f\"{party}: {seats} ({seats/total_seats*100:.1f}%)\")\n",
    "else:\n",
    "    print(\"Failed to scrape data.\")\n"
   ]
  }
 ],
 "metadata": {
  "kernelspec": {
   "display_name": "Python 3",
   "language": "python",
   "name": "python3"
  },
  "language_info": {
   "codemirror_mode": {
    "name": "ipython",
    "version": 3
   },
   "file_extension": ".py",
   "mimetype": "text/x-python",
   "name": "python",
   "nbconvert_exporter": "python",
   "pygments_lexer": "ipython3",
   "version": "3.11.1"
  }
 },
 "nbformat": 4,
 "nbformat_minor": 2
}
