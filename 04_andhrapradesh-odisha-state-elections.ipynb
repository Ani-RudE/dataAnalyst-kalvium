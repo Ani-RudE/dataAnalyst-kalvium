{
 "cells": [
  {
   "cell_type": "code",
   "execution_count": 4,
   "metadata": {},
   "outputs": [
    {
     "name": "stdout",
     "output_type": "stream",
     "text": [
      "No table found for Andhra Pradesh on https://results.eci.gov.in/AcResultGenJune2024/partywiseresult-S01.htm\n",
      "No data found for Andhra Pradesh\n",
      "Data and charts saved for Andhra Pradesh\n",
      "No table found for Odisha on https://results.eci.gov.in/AcResultGenJune2024/partywiseresult-S18.htm\n",
      "No data found for Odisha\n",
      "Data and charts saved for Odisha\n",
      "Scraping and chart generation completed.\n"
     ]
    }
   ],
   "source": [
    "import requests\n",
    "from bs4 import BeautifulSoup\n",
    "import pandas as pd\n",
    "import matplotlib.pyplot as plt\n",
    "import os\n",
    "\n",
    "# URLs for Andhra Pradesh and Odisha State Assembly Elections\n",
    "urls = {\n",
    "    \"Andhra Pradesh\": \"https://results.eci.gov.in/AcResultGenJune2024/partywiseresult-S01.htm\",\n",
    "    \"Odisha\": \"https://results.eci.gov.in/AcResultGenJune2024/partywiseresult-S18.htm\"\n",
    "}\n",
    "\n",
    "parent_directory = \"state-assembly-elections\"\n",
    "if not os.path.exists(parent_directory):\n",
    "    os.makedirs(parent_directory)\n",
    "\n",
    "def scrape_state_assembly_data(url, state_name):\n",
    "    response = requests.get(url)\n",
    "    soup = BeautifulSoup(response.content, 'html.parser')\n",
    "    \n",
    "    data = []\n",
    "    table = soup.find(\"table\", {\"class\": \"table-party\"})\n",
    "    \n",
    "    if table:\n",
    "        headers = [header.text.strip() for header in table.find_all(\"th\")]\n",
    "        rows = table.find_all(\"tr\")\n",
    "        for row in rows:\n",
    "            cols = row.find_all(\"td\")\n",
    "            if cols:\n",
    "                data.append([col.text.strip() for col in cols])\n",
    "        return pd.DataFrame(data, columns=headers)\n",
    "    else:\n",
    "        print(f\"No table found for {state_name} on {url}\")\n",
    "        return pd.DataFrame()  # Return an empty DataFrame if no table is found\n",
    "\n",
    "def save_charts(df, state_name):\n",
    "    directory = os.path.join(parent_directory, state_name)\n",
    "    if not os.path.exists(directory):\n",
    "        os.makedirs(directory)\n",
    "    \n",
    "    if not df.empty:\n",
    "        # Save to Excel\n",
    "        excel_path = os.path.join(directory, f\"{state_name}_assembly_results.xlsx\")\n",
    "        df.to_excel(excel_path, index=False)\n",
    "        \n",
    "        # Bar chart\n",
    "        bar_chart_path = os.path.join(directory, f\"{state_name}_party_distribution_bar.png\")\n",
    "        df.plot(kind=\"bar\", x=\"Party\", y=\"Seats\", title=f\"Party-wise Seat Distribution ({state_name})\")\n",
    "        plt.ylabel(\"Seats Won\")\n",
    "        plt.savefig(bar_chart_path)\n",
    "        plt.close()\n",
    "        \n",
    "        # Pie chart\n",
    "        pie_chart_path = os.path.join(directory, f\"{state_name}_party_distribution_pie.png\")\n",
    "        df.plot(kind=\"pie\", y=\"Seats\", labels=df[\"Party\"], autopct=\"%1.1f%%\", title=f\"Party-wise Seat Distribution ({state_name})\")\n",
    "        plt.ylabel(\"\")\n",
    "        plt.savefig(pie_chart_path)\n",
    "        plt.close()\n",
    "    else:\n",
    "        print(f\"No data found for {state_name}\")\n",
    "\n",
    "for state_name, url in urls.items():\n",
    "    df_state_assembly = scrape_state_assembly_data(url, state_name)\n",
    "    save_charts(df_state_assembly, state_name)\n",
    "    print(f\"Data and charts saved for {state_name}\")\n",
    "\n",
    "print(\"Scraping and chart generation completed.\")\n"
   ]
  }
 ],
 "metadata": {
  "kernelspec": {
   "display_name": "Python 3",
   "language": "python",
   "name": "python3"
  },
  "language_info": {
   "codemirror_mode": {
    "name": "ipython",
    "version": 3
   },
   "file_extension": ".py",
   "mimetype": "text/x-python",
   "name": "python",
   "nbconvert_exporter": "python",
   "pygments_lexer": "ipython3",
   "version": "3.11.1"
  }
 },
 "nbformat": 4,
 "nbformat_minor": 2
}
